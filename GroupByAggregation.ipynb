{
 "cells": [
  {
   "cell_type": "code",
   "execution_count": 4,
   "id": "4826421e-63fd-4422-a6ee-26f7c9b8d02e",
   "metadata": {},
   "outputs": [],
   "source": [
    "import numpy as np\n",
    "import pandas as pd"
   ]
  },
  {
   "cell_type": "code",
   "execution_count": 5,
   "id": "87c2ae77-2e60-41be-ae17-87ac0a6a4418",
   "metadata": {},
   "outputs": [],
   "source": [
    "data = {\n",
    "    'Category': ['A', 'B', 'A', 'B', 'A', 'B', 'A', 'B'],\n",
    "    'Store': ['S1', 'S1', 'S2', 'S2', 'S1', 'S2', 'S2', 'S1'],\n",
    "    'Sales': [100, 200, 150, 250, 120, 180, 200, 300],\n",
    "    'Quantity': [10, 15, 12, 18, 8, 20, 15, 25],\n",
    "    'Date': pd.date_range('2023-01-01', periods=8)\n",
    "}\n",
    "df = pd.DataFrame(data)"
   ]
  },
  {
   "cell_type": "code",
   "execution_count": 6,
   "id": "31940905-05bb-430e-b42e-1d03033dc54c",
   "metadata": {},
   "outputs": [
    {
     "data": {
      "text/html": [
       "<div>\n",
       "<style scoped>\n",
       "    .dataframe tbody tr th:only-of-type {\n",
       "        vertical-align: middle;\n",
       "    }\n",
       "\n",
       "    .dataframe tbody tr th {\n",
       "        vertical-align: top;\n",
       "    }\n",
       "\n",
       "    .dataframe thead th {\n",
       "        text-align: right;\n",
       "    }\n",
       "</style>\n",
       "<table border=\"1\" class=\"dataframe\">\n",
       "  <thead>\n",
       "    <tr style=\"text-align: right;\">\n",
       "      <th></th>\n",
       "      <th>Category</th>\n",
       "      <th>Store</th>\n",
       "      <th>Sales</th>\n",
       "      <th>Quantity</th>\n",
       "      <th>Date</th>\n",
       "    </tr>\n",
       "  </thead>\n",
       "  <tbody>\n",
       "    <tr>\n",
       "      <th>0</th>\n",
       "      <td>A</td>\n",
       "      <td>S1</td>\n",
       "      <td>100</td>\n",
       "      <td>10</td>\n",
       "      <td>2023-01-01</td>\n",
       "    </tr>\n",
       "    <tr>\n",
       "      <th>1</th>\n",
       "      <td>B</td>\n",
       "      <td>S1</td>\n",
       "      <td>200</td>\n",
       "      <td>15</td>\n",
       "      <td>2023-01-02</td>\n",
       "    </tr>\n",
       "    <tr>\n",
       "      <th>2</th>\n",
       "      <td>A</td>\n",
       "      <td>S2</td>\n",
       "      <td>150</td>\n",
       "      <td>12</td>\n",
       "      <td>2023-01-03</td>\n",
       "    </tr>\n",
       "    <tr>\n",
       "      <th>3</th>\n",
       "      <td>B</td>\n",
       "      <td>S2</td>\n",
       "      <td>250</td>\n",
       "      <td>18</td>\n",
       "      <td>2023-01-04</td>\n",
       "    </tr>\n",
       "    <tr>\n",
       "      <th>4</th>\n",
       "      <td>A</td>\n",
       "      <td>S1</td>\n",
       "      <td>120</td>\n",
       "      <td>8</td>\n",
       "      <td>2023-01-05</td>\n",
       "    </tr>\n",
       "    <tr>\n",
       "      <th>5</th>\n",
       "      <td>B</td>\n",
       "      <td>S2</td>\n",
       "      <td>180</td>\n",
       "      <td>20</td>\n",
       "      <td>2023-01-06</td>\n",
       "    </tr>\n",
       "    <tr>\n",
       "      <th>6</th>\n",
       "      <td>A</td>\n",
       "      <td>S2</td>\n",
       "      <td>200</td>\n",
       "      <td>15</td>\n",
       "      <td>2023-01-07</td>\n",
       "    </tr>\n",
       "    <tr>\n",
       "      <th>7</th>\n",
       "      <td>B</td>\n",
       "      <td>S1</td>\n",
       "      <td>300</td>\n",
       "      <td>25</td>\n",
       "      <td>2023-01-08</td>\n",
       "    </tr>\n",
       "  </tbody>\n",
       "</table>\n",
       "</div>"
      ],
      "text/plain": [
       "  Category Store  Sales  Quantity       Date\n",
       "0        A    S1    100        10 2023-01-01\n",
       "1        B    S1    200        15 2023-01-02\n",
       "2        A    S2    150        12 2023-01-03\n",
       "3        B    S2    250        18 2023-01-04\n",
       "4        A    S1    120         8 2023-01-05\n",
       "5        B    S2    180        20 2023-01-06\n",
       "6        A    S2    200        15 2023-01-07\n",
       "7        B    S1    300        25 2023-01-08"
      ]
     },
     "execution_count": 6,
     "metadata": {},
     "output_type": "execute_result"
    }
   ],
   "source": [
    "df"
   ]
  },
  {
   "cell_type": "code",
   "execution_count": 11,
   "id": "79a4c9e6-1016-4bd6-8cd1-e9e56f7d0c3b",
   "metadata": {},
   "outputs": [
    {
     "data": {
      "text/plain": [
       "Category\n",
       "A    570\n",
       "B    930\n",
       "Name: Sales, dtype: int64"
      ]
     },
     "execution_count": 11,
     "metadata": {},
     "output_type": "execute_result"
    }
   ],
   "source": [
    "#Group by Category and calculator the sum of sales\n",
    "cat = df.groupby('Category')['Sales'].sum()\n",
    "cat "
   ]
  },
  {
   "cell_type": "code",
   "execution_count": 13,
   "id": "e84dacdc-a91c-4b3d-a829-c3caceca9cd3",
   "metadata": {},
   "outputs": [
    {
     "data": {
      "text/plain": [
       "Store\n",
       "S1    720\n",
       "S2    780\n",
       "Name: Sales, dtype: int64"
      ]
     },
     "execution_count": 13,
     "metadata": {},
     "output_type": "execute_result"
    }
   ],
   "source": [
    "cat = df.groupby('Store')['Sales'].sum()\n",
    "cat"
   ]
  },
  {
   "cell_type": "code",
   "execution_count": 15,
   "id": "ef37133c-3087-4ed8-8f84-6c75f941c9a6",
   "metadata": {},
   "outputs": [
    {
     "data": {
      "text/plain": [
       "Category  Store\n",
       "A         S1       220\n",
       "          S2       350\n",
       "B         S1       500\n",
       "          S2       430\n",
       "Name: Sales, dtype: int64"
      ]
     },
     "execution_count": 15,
     "metadata": {},
     "output_type": "execute_result"
    }
   ],
   "source": [
    "#group by multiple columns\n",
    "#roup by category and store\n",
    "cat = df.groupby(['Category','Store'])['Sales'].sum()\n",
    "cat"
   ]
  },
  {
   "cell_type": "code",
   "execution_count": 16,
   "id": "b5f353d4-066d-41f8-9c24-bbe45dcd3a1f",
   "metadata": {},
   "outputs": [],
   "source": [
    "#aggregation"
   ]
  },
  {
   "cell_type": "code",
   "execution_count": 17,
   "id": "6a9a4044-da1a-40fc-9a5f-7b8324ca8618",
   "metadata": {},
   "outputs": [
    {
     "data": {
      "text/plain": [
       "np.float64(187.5)"
      ]
     },
     "execution_count": 17,
     "metadata": {},
     "output_type": "execute_result"
    }
   ],
   "source": [
    "df['Sales'].mean()\n",
    "#mean median mode min max ,count std"
   ]
  },
  {
   "cell_type": "code",
   "execution_count": 20,
   "id": "3dd4d2e6-d07e-4c20-901c-5cd31c8e1e87",
   "metadata": {},
   "outputs": [
    {
     "data": {
      "text/plain": [
       "sum       1500.000000\n",
       "mean       187.500000\n",
       "min        100.000000\n",
       "max        300.000000\n",
       "std         66.062741\n",
       "median     190.000000\n",
       "count        8.000000\n",
       "Name: Sales, dtype: float64"
      ]
     },
     "execution_count": 20,
     "metadata": {},
     "output_type": "execute_result"
    }
   ],
   "source": [
    "df['Sales'].agg(['sum','mean','min','max','std','median','count'])"
   ]
  },
  {
   "cell_type": "code",
   "execution_count": null,
   "id": "2eb931a9-3ae4-4f04-8b84-1848a68dc37f",
   "metadata": {},
   "outputs": [],
   "source": []
  }
 ],
 "metadata": {
  "kernelspec": {
   "display_name": "Python 3 (ipykernel)",
   "language": "python",
   "name": "python3"
  },
  "language_info": {
   "codemirror_mode": {
    "name": "ipython",
    "version": 3
   },
   "file_extension": ".py",
   "mimetype": "text/x-python",
   "name": "python",
   "nbconvert_exporter": "python",
   "pygments_lexer": "ipython3",
   "version": "3.13.3"
  }
 },
 "nbformat": 4,
 "nbformat_minor": 5
}
